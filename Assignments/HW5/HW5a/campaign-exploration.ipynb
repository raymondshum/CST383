{
 "cells": [
  {
   "cell_type": "markdown",
   "metadata": {},
   "source": [
    "## US Presidential Campaign Data Exploration\n",
    "### Dr. Bruns\n",
    "### 8 October 2019"
   ]
  },
  {
   "cell_type": "markdown",
   "metadata": {},
   "source": [
    "Instructions:\n",
    "- Problems 1-12 are shown in code cells below\n",
    "- Each problem begins with #@\n",
    "- Insert your code below the problem line\n",
    "- Do not make changes outside the problem cells, except to change the name and date above\n",
    "- Be sure to include plot titles, labels, etc. as shown"
   ]
  },
  {
   "cell_type": "markdown",
   "metadata": {},
   "source": [
    "An exploration of California campaign contribution data for the 2016 US presidential election."
   ]
  },
  {
   "cell_type": "code",
   "execution_count": null,
   "metadata": {},
   "outputs": [],
   "source": [
    "%matplotlib inline\n",
    "import numpy as np\n",
    "import pandas as pd\n",
    "import matplotlib.pyplot as plt\n",
    "from matplotlib import rcParams\n",
    "import seaborn as sns\n",
    "sns.set()\n",
    "rcParams['figure.figsize'] = 8,6\n",
    "sns.set_context('talk')   # 'talk' for slightly larger"
   ]
  },
  {
   "cell_type": "code",
   "execution_count": null,
   "metadata": {},
   "outputs": [],
   "source": [
    "# code in this cell from: \n",
    "# https://stackoverflow.com/questions/27934885/how-to-hide-code-from-cells-in-ipython-notebook-visualized-with-nbviewer\n",
    "from IPython.display import HTML\n",
    "\n",
    "HTML('''<script>\n",
    "code_show=true; \n",
    "function code_toggle() {\n",
    " if (code_show){\n",
    " $('div.input').hide();\n",
    " } else {\n",
    " $('div.input').show();\n",
    " }\n",
    " code_show = !code_show\n",
    "} \n",
    "$( document ).ready(code_toggle);\n",
    "</script>\n",
    "<form action=\"javascript:code_toggle()\"><input type=\"submit\" value=\"Click here to display/hide the code.\"></form>''')"
   ]
  },
  {
   "cell_type": "code",
   "execution_count": null,
   "metadata": {},
   "outputs": [],
   "source": [
    "# This is a randomly-sample subset of the full data set.\n",
    "df = pd.read_csv(\"https://raw.githubusercontent.com/grbruns/cst383/master/campaign-ca-2016-sample.csv\")"
   ]
  },
  {
   "cell_type": "markdown",
   "metadata": {},
   "source": [
    "Which candidates received the most contributions?  "
   ]
  },
  {
   "cell_type": "code",
   "execution_count": null,
   "metadata": {},
   "outputs": [],
   "source": [
    "#@ 1 Show the number of contributions by candidate using a barplot.  \n",
    "# Hint: use value_counts(), and use a pandas bar plot.\n",
    "\n"
   ]
  },
  {
   "cell_type": "markdown",
   "metadata": {},
   "source": [
    "Let's look at the amount of the contributions, instead of the number of contributions.  Which candidates had the highest median contribution amounts?  "
   ]
  },
  {
   "cell_type": "code",
   "execution_count": null,
   "metadata": {},
   "outputs": [],
   "source": [
    "#@ 2 Show the median contribution amount by candidate.\n",
    "\n"
   ]
  },
  {
   "cell_type": "markdown",
   "metadata": {},
   "source": [
    "What is the distribution of the contribution amounts?  There are a small number of very large amounts, which make it hard to display the distribution.  Also, there are some negative contribution amounts that seem to reflect returned contributions.  Therefore, let's focus on contributions ranging from 0 to 3,000 dollars."
   ]
  },
  {
   "cell_type": "code",
   "execution_count": null,
   "metadata": {},
   "outputs": [],
   "source": [
    "#@ 3 Create a histogram showing contribution amounts.  Show\n",
    "# contributions from 0 - 3000 dollars only.  Create the\n",
    "# histogram with Seaborn.\n",
    "\n"
   ]
  },
  {
   "cell_type": "markdown",
   "metadata": {},
   "source": [
    "It appears that most contributions are small.  Let's restrict our attention to an even smaller range of contributions to get a better idea of how small contributions are distributed."
   ]
  },
  {
   "cell_type": "code",
   "execution_count": null,
   "metadata": {},
   "outputs": [],
   "source": [
    "#@ 4 Create a histogram showing contribution amounts.  Show\n",
    "# contributions from 0 - 500 dollars only.  Create the\n",
    "# histogram with Seaborn.\n",
    "\n"
   ]
  },
  {
   "cell_type": "markdown",
   "metadata": {},
   "source": [
    "The appearance of a histogram is sensitive to the number of bins that are used and where the bin edges lie.  Let's look at the contribution amounts again using a density plot."
   ]
  },
  {
   "cell_type": "code",
   "execution_count": null,
   "metadata": {},
   "outputs": [],
   "source": [
    "#@ 5 Create a density plot (sometimes called a kernel density\n",
    "# plot) showing contribution amounts.  Show contributions from \n",
    "# 0 - 500 dollars only.  Create the density plot with Seaborn.\n",
    "# histogram use Seaborn.\n",
    "# Hint: you may want to start by creating a series containing\n",
    "# the contb_receipt_amt values from 0-500.\n",
    "\n"
   ]
  },
  {
   "cell_type": "markdown",
   "metadata": {},
   "source": [
    "Let's compare the size of contributions between candidates Rubio and Cruz.  Did one of them tend to get larger-sized contributions?"
   ]
  },
  {
   "cell_type": "code",
   "execution_count": null,
   "metadata": {},
   "outputs": [],
   "source": [
    "#@ 6 Create a \"double density plot\" showing the contributions for\n",
    "# Rubio and Cruz.  Show contributions in the range of 0-1000 dollars\n",
    "# only.  Be sure to include a legend.\n",
    "# Hint: you can create two series, one for 0-1000 contributions to\n",
    "# Rubio, and another for 0-1000 contributions to Cruz.\n",
    "# Remember that you can superimpose plots by simply plotting one\n",
    "# after another.\n",
    "\n"
   ]
  },
  {
   "cell_type": "markdown",
   "metadata": {},
   "source": [
    "Rubio and Cruz were Republican candidates.  Let's look at a pair of Democratic candidates."
   ]
  },
  {
   "cell_type": "code",
   "execution_count": null,
   "metadata": {},
   "outputs": [],
   "source": [
    "#@ 7 Show the contributions of 0-1000 for Clinton and Sanders.  \n",
    "# Use a seaborn violin plot.\n",
    "# Hint: create a modified version of the data frame that contains only\n",
    "# contributions for Sanders and Clinton, and only contains contributions\n",
    "# from 0 to 1000 dollars.  Then use Seaborn's violinplot.\n",
    "\n"
   ]
  },
  {
   "cell_type": "markdown",
   "metadata": {},
   "source": [
    "Which occupations are associated with the greatest number of contributions?  This will be interesting, but we need to keep in mind that the occupation with the greatest number of contributions might just be the most common occupation."
   ]
  },
  {
   "cell_type": "code",
   "execution_count": null,
   "metadata": {},
   "outputs": [],
   "source": [
    "#@ 8 Create a bar plot showing th total number of contributions by occupation, \n",
    "# for the 10 occupations with the largest number of contributions.  Use\n",
    "# Pandas for the bar plot.  Limit the occupation names to 18 characters.\n",
    "# Hint: to limit the occupation names to 18 characters, you can create a \n",
    "# new column 'short_occ' by using pd.Series.str.slice on the \n",
    "# 'contbr_occupation' column.\n",
    "\n"
   ]
  },
  {
   "cell_type": "markdown",
   "metadata": {},
   "source": [
    "We can classify contributors as either employed, unemployed, or retired.  Among these groups, which makes the most contributions?"
   ]
  },
  {
   "cell_type": "code",
   "execution_count": null,
   "metadata": {},
   "outputs": [],
   "source": [
    "#@ 9 Create a new column \"employment_status\", derived from the \n",
    "# contbr_occupation column.  The value of employment_status should \n",
    "# be \"EMPLOYED\" if contbr_occupation is not \"RETIRED\" or \"NOT EMPLOYED\", \n",
    "# and should be the original contbr_occupation otherwise.  Show the \n",
    "# number of contributions by employment status as a bar plot.\n",
    "# Hint: to create the new column, consider creating a function that \n",
    "# takes as input a contbr_occupation value and returns an employement \n",
    "# status value.  Then use this function with 'apply'.\n",
    "\n"
   ]
  },
  {
   "cell_type": "markdown",
   "metadata": {},
   "source": [
    "Do retired contributors tend to make smaller contributions than employed contributors?  It seems likely, but what does the data say?"
   ]
  },
  {
   "cell_type": "code",
   "execution_count": null,
   "metadata": {},
   "outputs": [],
   "source": [
    "#@ 10 Create a double density plot showing the distribution of\n",
    "# contribution amounts from those with employment_status values\n",
    "# of RETIRED and EMPLOYED.  Include only contributions of $0-1000.\n",
    "# Use Seaborn, and make sure to include\n",
    "# a legend.\n",
    "# Hint: consider creating two series, one for the contributions\n",
    "# from retired contributors, and one for the contributions from\n",
    "# employed contributors.\n",
    "\n"
   ]
  },
  {
   "cell_type": "markdown",
   "metadata": {},
   "source": [
    "It appears that contributions from the retired and the employed are pretty similar, although there is a significant difference when you focus on larger contributions.  Let's look more into the size of contributions from those who are employed, retired, or unemployed.  "
   ]
  },
  {
   "cell_type": "code",
   "execution_count": null,
   "metadata": {},
   "outputs": [],
   "source": [
    "#@ 11 Create a box plot of contribution amounts for each employment\n",
    "# status category.  Use Seaborn to create the bar plot, and show\n",
    "# only contributions in the range of $0-250.\n",
    "# Hint: you may want to create a version of df that contains only\n",
    "# contributions in the 0-250 range.\n",
    "\n"
   ]
  },
  {
   "cell_type": "markdown",
   "metadata": {},
   "source": [
    "Previously we looked at the number of contributions from different occupations.  What about the size of contributions from different occupations?  Let's focus on a few occupations that contribute a lot."
   ]
  },
  {
   "cell_type": "code",
   "execution_count": null,
   "metadata": {},
   "outputs": [],
   "source": [
    "#@ 12 Create a bar plot showing the average contribution amount\n",
    "# for the occupations 'ATTORNEY', 'TEACHER', 'ENGINEER' and 'PHYSICIAN'.\n",
    "# Include contributions of any amount.  Use Pandas to create the bar plot.\n",
    "# Show the occupations in decreasing order of mean contribution amount.\n",
    "# Hint: you may want to create a new data frame that is like df except\n",
    "# that it only includes data associated with the four occupations.\n",
    "# To do this, consider the Pandas method pd.Series.isin \n",
    "\n"
   ]
  },
  {
   "cell_type": "code",
   "execution_count": null,
   "metadata": {},
   "outputs": [],
   "source": []
  }
 ],
 "metadata": {
  "kernelspec": {
   "display_name": "Python 3",
   "language": "python",
   "name": "python3"
  },
  "language_info": {
   "codemirror_mode": {
    "name": "ipython",
    "version": 3
   },
   "file_extension": ".py",
   "mimetype": "text/x-python",
   "name": "python",
   "nbconvert_exporter": "python",
   "pygments_lexer": "ipython3",
   "version": "3.7.3"
  }
 },
 "nbformat": 4,
 "nbformat_minor": 2
}
