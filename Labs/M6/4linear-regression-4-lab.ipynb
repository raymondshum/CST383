{
 "cells": [
  {
   "cell_type": "markdown",
   "id": "1be538b1",
   "metadata": {},
   "source": [
    "Student Name: Raymond Shum\n",
    "\n",
    "Assignment: W6 Lab 4\n",
    "\n",
    "Class: CST383-30_SP22\n",
    "\n",
    "Due Date: Feb 15, 2020\n"
   ]
  },
  {
   "cell_type": "code",
   "execution_count": 2,
   "id": "29306145",
   "metadata": {},
   "outputs": [],
   "source": [
    "import numpy as np\n",
    "import pandas as pd\n",
    "import seaborn as sns\n",
    "import random\n",
    "import matplotlib.pyplot as plt\n",
    "from sklearn.linear_model import LinearRegression\n",
    "from sklearn.model_selection import train_test_split"
   ]
  },
  {
   "cell_type": "code",
   "execution_count": 3,
   "id": "94056671",
   "metadata": {},
   "outputs": [],
   "source": [
    "#1\n",
    "df = pd.read_csv(\"https://raw.githubusercontent.com/grbruns/cst383/master/machine.csv\")\n",
    "df.index = df['vendor']+' '+df['model']\n",
    "df.drop(['vendor', 'model'], axis=1, inplace=True)\n",
    "df['cs'] = np.round(1e3/df['myct'], 2)\t# clock speed in MHz "
   ]
  },
  {
   "cell_type": "code",
   "execution_count": 4,
   "id": "61f4c7ae",
   "metadata": {},
   "outputs": [],
   "source": [
    "#2\n",
    "target_var = 'prp'\n",
    "target = df[target_var]\n",
    "predictors = df.drop(columns=target_var)\n",
    "\n",
    "y = target.values\n",
    "X = predictors.values\n",
    "\n",
    "X_train, X_test, y_train, y_test = train_test_split(\n",
    "    X, y, test_size=0.30, random_state=42)"
   ]
  },
  {
   "cell_type": "code",
   "execution_count": 5,
   "id": "7c8bc194",
   "metadata": {},
   "outputs": [],
   "source": [
    "#3\n",
    "regr = LinearRegression()\n",
    "regr.fit(X_train,y_train)\n",
    "predict = regr.predict(X_test)"
   ]
  },
  {
   "cell_type": "code",
   "execution_count": 10,
   "id": "8690fb9b",
   "metadata": {},
   "outputs": [
    {
     "data": {
      "text/plain": [
       "65.42522109881914"
      ]
     },
     "execution_count": 10,
     "metadata": {},
     "output_type": "execute_result"
    }
   ],
   "source": [
    "#4\n",
    "rmse = np.sqrt(((predict - y_test)**2).mean())\n",
    "rmse"
   ]
  },
  {
   "cell_type": "code",
   "execution_count": 27,
   "id": "af630f3c",
   "metadata": {},
   "outputs": [
    {
     "data": {
      "text/plain": [
       "64.4931753039009"
      ]
     },
     "execution_count": 27,
     "metadata": {},
     "output_type": "execute_result"
    }
   ],
   "source": [
    "#5\n",
    "target_var = 'prp'\n",
    "target = df[target_var]\n",
    "predictors = df.drop(columns=target_var)\n",
    "\n",
    "y = target.values\n",
    "X = predictors.values\n",
    "\n",
    "X_train, X_test, y_train, y_test = train_test_split(\n",
    "    X, y, test_size=0.30)\n",
    "regr = LinearRegression()\n",
    "regr.fit(X_train,y_train)\n",
    "predict = regr.predict(X_test)\n",
    "rmse2 = np.sqrt(((predict - y_test)**2).mean())\n",
    "rmse2"
   ]
  },
  {
   "cell_type": "code",
   "execution_count": 44,
   "id": "404a40e4",
   "metadata": {},
   "outputs": [],
   "source": [
    "#6\n",
    "def rmse_gen():\n",
    "    target_var = 'prp'\n",
    "    target = df[target_var]\n",
    "    predictors = df.drop(columns=target_var)\n",
    "\n",
    "    y = target.values\n",
    "    X = predictors.values\n",
    "\n",
    "    X_train, X_test, y_train, y_test = train_test_split(\n",
    "        X, y, test_size=0.30)\n",
    "    regr = LinearRegression()\n",
    "    regr.fit(X_train,y_train)\n",
    "    predict = regr.predict(X_test)\n",
    "    return np.sqrt(((predict - y_test)**2).mean())\n",
    "\n",
    "results = pd.Series(rmse_gen().round(0) for i in range(100))"
   ]
  },
  {
   "cell_type": "code",
   "execution_count": 46,
   "id": "c6eb5c02",
   "metadata": {},
   "outputs": [
    {
     "data": {
      "text/plain": [
       "<AxesSubplot:ylabel='Count'>"
      ]
     },
     "execution_count": 46,
     "metadata": {},
     "output_type": "execute_result"
    },
    {
     "data": {
      "image/png": "[encoded data removed]",
      "text/plain": [
       "<Figure size 432x288 with 1 Axes>"
      ]
     },
     "metadata": {
      "needs_background": "light"
     },
     "output_type": "display_data"
    }
   ],
   "source": [
    "sns.histplot(results)"
   ]
  },
  {
   "cell_type": "code",
   "execution_count": null,
   "id": "38614fb3",
   "metadata": {},
   "outputs": [],
   "source": [
    "#7"
   ]
  },
  {
   "cell_type": "code",
   "execution_count": null,
   "id": "7f9285e3",
   "metadata": {},
   "outputs": [],
   "source": [
    "#8"
   ]
  },
  {
   "cell_type": "code",
   "execution_count": null,
   "id": "a8b93a18",
   "metadata": {},
   "outputs": [],
   "source": [
    "#9"
   ]
  }
 ],
 "metadata": {
  "kernelspec": {
   "display_name": "Python 3 (ipykernel)",
   "language": "python",
   "name": "python3"
  },
  "language_info": {
   "codemirror_mode": {
    "name": "ipython",
    "version": 3
   },
   "file_extension": ".py",
   "mimetype": "text/x-python",
   "name": "python",
   "nbconvert_exporter": "python",
   "pygments_lexer": "ipython3",
   "version": "3.9.7"
  }
 },
 "nbformat": 4,
 "nbformat_minor": 5
}
