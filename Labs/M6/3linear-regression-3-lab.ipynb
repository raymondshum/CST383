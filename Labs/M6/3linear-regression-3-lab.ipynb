{
 "cells": [
  {
   "cell_type": "markdown",
   "id": "1a461418",
   "metadata": {},
   "source": [
    "Student Name: Raymond Shum\n",
    "\n",
    "Assignment: W6 Lab 3\n",
    "\n",
    "Class: CST383-30_SP22\n",
    "\n",
    "Due Date: Feb 15, 2020\n"
   ]
  },
  {
   "cell_type": "code",
   "execution_count": 1,
   "id": "97492e75",
   "metadata": {},
   "outputs": [],
   "source": [
    "import numpy as np\n",
    "import pandas as pd\n",
    "import seaborn as sns\n",
    "import random\n",
    "import matplotlib.pyplot as plt\n",
    "from sklearn.linear_model import LinearRegression\n",
    "from sklearn.model_selection import train_test_split"
   ]
  },
  {
   "cell_type": "code",
   "execution_count": 2,
   "id": "9a039325",
   "metadata": {},
   "outputs": [],
   "source": [
    "#1\n",
    "df = pd.read_csv(\"https://raw.githubusercontent.com/grbruns/cst383/master/machine.csv\")\n",
    "df.index = df['vendor']+' '+df['model']\n",
    "df.drop(['vendor', 'model'], axis=1, inplace=True)\n",
    "df['cs'] = np.round(1e3/df['myct'], 2)\t# clock speed in MHz \n"
   ]
  },
  {
   "cell_type": "code",
   "execution_count": 3,
   "id": "b188005c",
   "metadata": {},
   "outputs": [],
   "source": [
    "#2\n",
    "target_var = 'prp'\n",
    "target = df[target_var]\n",
    "predictors = df.drop(columns=target_var)\n",
    "\n",
    "y = target.values\n",
    "X = predictors.values\n",
    "\n",
    "X_train, X_test, y_train, y_test = train_test_split(\n",
    "    X, y, test_size=0.30, random_state=42)"
   ]
  },
  {
   "cell_type": "code",
   "execution_count": 4,
   "id": "3b0d6cc0",
   "metadata": {},
   "outputs": [
    {
     "data": {
      "text/plain": [
       "LinearRegression()"
      ]
     },
     "execution_count": 4,
     "metadata": {},
     "output_type": "execute_result"
    }
   ],
   "source": [
    "#3\n",
    "reg = LinearRegression()\n",
    "reg.fit(X_train, y_train)"
   ]
  },
  {
   "cell_type": "code",
   "execution_count": 5,
   "id": "acf6b720",
   "metadata": {},
   "outputs": [
    {
     "name": "stdout",
     "output_type": "stream",
     "text": [
      "Coef:\n",
      "myct: -0.003\n",
      "mmin: 0.005\n",
      "mmax: -0.001\n",
      "cach: 0.334\n",
      "chmin: 2.111\n",
      "chmax: -0.007\n",
      "erp: 0.718\n",
      "cs: 0.233\n"
     ]
    }
   ],
   "source": [
    "print('Coef:')\n",
    "for i, predictor in enumerate(predictors):\n",
    "    print(f'{predictor}: {reg.coef_[i].round(3)}')"
   ]
  },
  {
   "cell_type": "code",
   "execution_count": 6,
   "id": "ba56228b",
   "metadata": {},
   "outputs": [
    {
     "data": {
      "text/plain": [
       "65.42522109881914"
      ]
     },
     "execution_count": 6,
     "metadata": {},
     "output_type": "execute_result"
    }
   ],
   "source": [
    "#4\n",
    "predict = reg.predict(X_test)\n",
    "RMSE = np.sqrt(((predict - y_test)**2).mean())\n",
    "RMSE"
   ]
  },
  {
   "cell_type": "code",
   "execution_count": null,
   "id": "034962c0",
   "metadata": {},
   "outputs": [],
   "source": [
    "#5\n",
    "reg.score()"
   ]
  },
  {
   "cell_type": "code",
   "execution_count": 9,
   "id": "c4125af8",
   "metadata": {},
   "outputs": [
    {
     "data": {
      "text/plain": [
       "(209, 164)"
      ]
     },
     "execution_count": 9,
     "metadata": {},
     "output_type": "execute_result"
    }
   ],
   "source": [
    "#6\n",
    "from sklearn.preprocessing import PolynomialFeatures\n",
    "pf = PolynomialFeatures(degree=3, include_bias=False)\n",
    "pf.fit(X)\n",
    "X_poly = pf.transform(X)\n",
    "X_poly.shape"
   ]
  },
  {
   "cell_type": "code",
   "execution_count": 11,
   "id": "5db7ad57",
   "metadata": {},
   "outputs": [
    {
     "data": {
      "text/plain": [
       "0.994498834852307"
      ]
     },
     "execution_count": 11,
     "metadata": {},
     "output_type": "execute_result"
    }
   ],
   "source": [
    "# Overfitting?\n",
    "reg.fit(X_poly, y)\n",
    "reg.score(X_poly, y)"
   ]
  },
  {
   "cell_type": "code",
   "execution_count": 12,
   "id": "620ae24f",
   "metadata": {},
   "outputs": [
    {
     "data": {
      "text/plain": [
       "1509046.2711123188"
      ]
     },
     "execution_count": 12,
     "metadata": {},
     "output_type": "execute_result"
    }
   ],
   "source": [
    "# Something incorrect happened here\n",
    "X_train, X_test, y_train, y_test = train_test_split(\n",
    "    X_poly, y, test_size=0.30, random_state=42)\n",
    "reg = LinearRegression()\n",
    "reg.fit(X_train, y_train)\n",
    "predict = reg.predict(X_test)\n",
    "RMSE = np.sqrt(((predict - y_test)**2).mean())\n",
    "RMSE"
   ]
  }
 ],
 "metadata": {
  "kernelspec": {
   "display_name": "Python 3 (ipykernel)",
   "language": "python",
   "name": "python3"
  },
  "language_info": {
   "codemirror_mode": {
    "name": "ipython",
    "version": 3
   },
   "file_extension": ".py",
   "mimetype": "text/x-python",
   "name": "python",
   "nbconvert_exporter": "python",
   "pygments_lexer": "ipython3",
   "version": "3.9.7"
  }
 },
 "nbformat": 4,
 "nbformat_minor": 5
}
