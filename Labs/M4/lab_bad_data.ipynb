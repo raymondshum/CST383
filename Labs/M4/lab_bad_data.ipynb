{
 "cells": [
  {
   "cell_type": "code",
   "execution_count": null,
   "id": "76287724",
   "metadata": {},
   "outputs": [],
   "source": [
    "**NAME**: Raymond Shum\n",
    "\n",
    "**CLASS**: CST383-30_SP22\n",
    "\n",
    "**ASSIGNMENT**: W4, Lab 3 - Bad Data\n",
    "\n",
    "**DUE DATE**: Feb. 1, 2022"
   ]
  },
  {
   "cell_type": "code",
   "execution_count": 1,
   "id": "073b3673",
   "metadata": {},
   "outputs": [],
   "source": [
    "import numpy as np\n",
    "import pandas as pd\n",
    "from scipy.stats import zscore\n",
    "import matplotlib.pyplot as plt\n",
    "from matplotlib import rcParams\n",
    "import seaborn as sns\n",
    "\n",
    "# allow output to span multiple output lines in the console\n",
    "pd.set_option('display.max_columns', 500)\n",
    "\n",
    "# switch to seaborn default stylistic parameters\n",
    "# see the very useful https://seaborn.pydata.org/tutorial/aesthetics.html\n",
    "sns.set()\n",
    "sns.set_context('notebook')   \n",
    "# sns.set_context('paper')  # smaller\n",
    "# sns.set_context('talk')   # larger\n",
    "\n",
    "# change default plot size\n",
    "rcParams['figure.figsize'] = 9,7"
   ]
  },
  {
   "cell_type": "markdown",
   "id": "ce032d8d",
   "metadata": {},
   "source": [
    "1. Create an Python file in Spyder, and enter this code to read the data:\n",
    "infile = https://raw.githubusercontent.com/grbruns/cst383/master/campaign-ca-2016-sample.csv (Links to an external site.)\n",
    "df = pd.read_csv(infile)\n",
    "Record your work on the following problems in your Python file."
   ]
  },
  {
   "cell_type": "code",
   "execution_count": 2,
   "id": "fc0ee65e",
   "metadata": {},
   "outputs": [],
   "source": [
    "infile = \"https://raw.githubusercontent.com/grbruns/cst383/master/campaign-ca-2016-sample.csv\"\n",
    "df = pd.read_csv(infile)"
   ]
  },
  {
   "cell_type": "markdown",
   "id": "a238cc6e",
   "metadata": {},
   "source": [
    "2. Look at some of the data using the variable explorer in the upper right pane of Spyder. (Select the 'Variable explorer' tab and double click on 'df'.)"
   ]
  },
  {
   "cell_type": "code",
   "execution_count": null,
   "id": "85474661",
   "metadata": {},
   "outputs": [],
   "source": [
    "# I'm using Jupyter for this lab."
   ]
  },
  {
   "cell_type": "markdown",
   "id": "64c80e3d",
   "metadata": {},
   "source": [
    "3. Look at the type of each column in df.  (We'll sometimes refer to the columns as 'variables', 'attributes', or 'features'.)  How many columns are shown as numeric?  Do you think some of the columns should be numeric but aren't?"
   ]
  },
  {
   "cell_type": "code",
   "execution_count": 3,
   "id": "bee0e1e6",
   "metadata": {},
   "outputs": [
    {
     "name": "stdout",
     "output_type": "stream",
     "text": [
      "<class 'pandas.core.frame.DataFrame'>\n",
      "RangeIndex: 20000 entries, 0 to 19999\n",
      "Data columns (total 18 columns):\n",
      " #   Column             Non-Null Count  Dtype  \n",
      "---  ------             --------------  -----  \n",
      " 0   cmte_id            20000 non-null  object \n",
      " 1   cand_id            20000 non-null  object \n",
      " 2   cand_nm            20000 non-null  object \n",
      " 3   contbr_nm          20000 non-null  object \n",
      " 4   contbr_city        20000 non-null  object \n",
      " 5   contbr_st          20000 non-null  object \n",
      " 6   contbr_zip         20000 non-null  object \n",
      " 7   contbr_employer    18792 non-null  object \n",
      " 8   contbr_occupation  19822 non-null  object \n",
      " 9   contb_receipt_amt  20000 non-null  float64\n",
      " 10  contb_receipt_dt   20000 non-null  object \n",
      " 11  receipt_desc       406 non-null    object \n",
      " 12  memo_cd            619 non-null    object \n",
      " 13  memo_text          7809 non-null   object \n",
      " 14  form_tp            20000 non-null  object \n",
      " 15  file_num           20000 non-null  int64  \n",
      " 16  tran_id            20000 non-null  object \n",
      " 17  election_tp        19989 non-null  object \n",
      "dtypes: float64(1), int64(1), object(16)\n",
      "memory usage: 2.7+ MB\n"
     ]
    }
   ],
   "source": [
    "# There are two numeric columns, but the majority should be.\n",
    "df.info()"
   ]
  },
  {
   "cell_type": "markdown",
   "id": "a3665501",
   "metadata": {},
   "source": [
    "4. Which of the columns contain NA values?  Use Python to figure out the total number of NA values in the data set. "
   ]
  },
  {
   "cell_type": "code",
   "execution_count": 5,
   "id": "734cee13",
   "metadata": {},
   "outputs": [
    {
     "data": {
      "text/plain": [
       "cmte_id                  0\n",
       "cand_id                  0\n",
       "cand_nm                  0\n",
       "contbr_nm                0\n",
       "contbr_city              0\n",
       "contbr_st                0\n",
       "contbr_zip               0\n",
       "contbr_employer       1208\n",
       "contbr_occupation      178\n",
       "contb_receipt_amt        0\n",
       "contb_receipt_dt         0\n",
       "receipt_desc         19594\n",
       "memo_cd              19381\n",
       "memo_text            12191\n",
       "form_tp                  0\n",
       "file_num                 0\n",
       "tran_id                  0\n",
       "election_tp             11\n",
       "dtype: int64"
      ]
     },
     "execution_count": 5,
     "metadata": {},
     "output_type": "execute_result"
    }
   ],
   "source": [
    "df.isna().sum()"
   ]
  },
  {
   "cell_type": "code",
   "execution_count": 6,
   "id": "0b2370ac",
   "metadata": {},
   "outputs": [
    {
     "data": {
      "text/plain": [
       "52563"
      ]
     },
     "execution_count": 6,
     "metadata": {},
     "output_type": "execute_result"
    }
   ],
   "source": [
    "df.isna().sum().sum()"
   ]
  },
  {
   "cell_type": "markdown",
   "id": "651593f3",
   "metadata": {},
   "source": [
    "5. Can you find values (besides 'nan') that indicate missing data?  You can try doing this with Python or by searching manually through df.  High-level hint: you might expect an NA value in a column to appear many times."
   ]
  },
  {
   "cell_type": "code",
   "execution_count": 35,
   "id": "155810bb",
   "metadata": {},
   "outputs": [],
   "source": [
    "# Collect names of relevant columns\n",
    "# look through value_counts for each column and see if there are categories indicating null info\n",
    "c = df.columns\n",
    "res = [df[col].value_counts() for col in c]\n",
    "# Look at each column in variable explorer or plot"
   ]
  },
  {
   "cell_type": "markdown",
   "id": "3d1a5735",
   "metadata": {},
   "source": [
    "6. Does missing data exist in attribute contbr_employer?  If so, how is it encoded?  Would it make sense to change it?"
   ]
  },
  {
   "cell_type": "code",
   "execution_count": 62,
   "id": "c003170b",
   "metadata": {},
   "outputs": [
    {
     "data": {
      "text/plain": [
       "True"
      ]
     },
     "execution_count": 62,
     "metadata": {},
     "output_type": "execute_result"
    }
   ],
   "source": [
    "df['contbr_employer'].isna().sum() > 1"
   ]
  },
  {
   "cell_type": "markdown",
   "id": "f8634ad8",
   "metadata": {},
   "source": [
    "7. Look more at contbr_employer.  Do you see any other data quality issues?"
   ]
  },
  {
   "cell_type": "code",
   "execution_count": 63,
   "id": "6f071289",
   "metadata": {},
   "outputs": [
    {
     "data": {
      "text/plain": [
       "RETIRED                              3419\n",
       "NOT EMPLOYED                         2305\n",
       "SELF-EMPLOYED                        1206\n",
       "SELF                                 1057\n",
       "SELF EMPLOYED                         625\n",
       "                                     ... \n",
       "SCREEN ENGINE LLC                       1\n",
       "RANGEN INC. BUHL IDAHO                  1\n",
       "WALT DISNEY STUDIOS                     1\n",
       "THE REHAB CENTER OF BEVERLY HILLS       1\n",
       "BEYOND SECURITY                         1\n",
       "Name: contbr_employer, Length: 5258, dtype: int64"
      ]
     },
     "execution_count": 63,
     "metadata": {},
     "output_type": "execute_result"
    }
   ],
   "source": [
    "# Huge number of unique values\n",
    "df['contbr_employer'].value_counts()"
   ]
  },
  {
   "cell_type": "code",
   "execution_count": 67,
   "id": "a400be7c",
   "metadata": {},
   "outputs": [
    {
     "data": {
      "text/plain": [
       "RETIRED          3419\n",
       "NOT EMPLOYED     2305\n",
       "SELF-EMPLOYED    1206\n",
       "SELF             1057\n",
       "SELF EMPLOYED     625\n",
       "NONE              606\n",
       "Name: contbr_employer, dtype: int64"
      ]
     },
     "execution_count": 67,
     "metadata": {},
     "output_type": "execute_result"
    }
   ],
   "source": [
    "# This is probably the most descriptive\n",
    "df['contbr_employer'].value_counts().loc[:\"NONE\"]\n",
    "\n",
    "# Can probably combined Self-Employed, Self and Self Employed\n",
    "# Other non null values can probably be combined to be employed\n",
    "# need to go over more common values"
   ]
  },
  {
   "cell_type": "markdown",
   "id": "cbd13956",
   "metadata": {},
   "source": [
    "8. How many different values are there in attribute ‘memo_cd’?  What are the values?  What fraction of the values are empty?"
   ]
  },
  {
   "cell_type": "code",
   "execution_count": 73,
   "id": "73a78527",
   "metadata": {},
   "outputs": [
    {
     "data": {
      "text/plain": [
       "X    619\n",
       "Name: memo_cd, dtype: int64"
      ]
     },
     "execution_count": 73,
     "metadata": {},
     "output_type": "execute_result"
    }
   ],
   "source": [
    "df['memo_cd'].value_counts()"
   ]
  },
  {
   "cell_type": "code",
   "execution_count": 75,
   "id": "ade43b74",
   "metadata": {},
   "outputs": [
    {
     "data": {
      "text/plain": [
       "0.96905"
      ]
     },
     "execution_count": 75,
     "metadata": {},
     "output_type": "execute_result"
    }
   ],
   "source": [
    "df['memo_cd'].isnull().sum() / len(df['memo_cd'])"
   ]
  },
  {
   "cell_type": "markdown",
   "id": "6c41280f",
   "metadata": {},
   "source": [
    "9. Attribute ‘contb_receipt_amt’ is the amount of the contribution.  Produce a histogram of the values.  Be sure your plot has a good title and good axis labels."
   ]
  },
  {
   "cell_type": "code",
   "execution_count": 89,
   "id": "9128d640",
   "metadata": {},
   "outputs": [
    {
     "data": {
      "text/plain": [
       "Text(0, 0.5, 'Count')"
      ]
     },
     "execution_count": 89,
     "metadata": {},
     "output_type": "execute_result"
    },
    {
     "data": {
      "image/png": "[encoded data removed]",
      "text/plain": [
       "<Figure size 648x504 with 1 Axes>"
      ]
     },
     "metadata": {},
     "output_type": "display_data"
    }
   ],
   "source": [
    "df['contb_receipt_amt'].plot(kind='hist')\n",
    "plt.title('Contribution Histogram')\n",
    "plt.xlabel('Amt. ($USD)')\n",
    "plt.ylabel('Count')"
   ]
  },
  {
   "cell_type": "markdown",
   "id": "557ded0e",
   "metadata": {},
   "source": [
    "10. What is the range of ‘contb_receipt_amt’ values?  Do any of them look suspicious?  How should you deal with negative campaign contributions?  Do negative contributions tend to be paired with positive contributions?"
   ]
  },
  {
   "cell_type": "code",
   "execution_count": 90,
   "id": "a99e3b10",
   "metadata": {},
   "outputs": [
    {
     "data": {
      "text/html": [
       "<div>\n",
       "<style scoped>\n",
       "    .dataframe tbody tr th:only-of-type {\n",
       "        vertical-align: middle;\n",
       "    }\n",
       "\n",
       "    .dataframe tbody tr th {\n",
       "        vertical-align: top;\n",
       "    }\n",
       "\n",
       "    .dataframe thead th {\n",
       "        text-align: right;\n",
       "    }\n",
       "</style>\n",
       "<table border=\"1\" class=\"dataframe\">\n",
       "  <thead>\n",
       "    <tr style=\"text-align: right;\">\n",
       "      <th></th>\n",
       "      <th>contb_receipt_amt</th>\n",
       "      <th>file_num</th>\n",
       "    </tr>\n",
       "  </thead>\n",
       "  <tbody>\n",
       "    <tr>\n",
       "      <th>count</th>\n",
       "      <td>20000.000000</td>\n",
       "      <td>2.000000e+04</td>\n",
       "    </tr>\n",
       "    <tr>\n",
       "      <th>mean</th>\n",
       "      <td>272.404752</td>\n",
       "      <td>1.042429e+06</td>\n",
       "    </tr>\n",
       "    <tr>\n",
       "      <th>std</th>\n",
       "      <td>738.984362</td>\n",
       "      <td>1.018850e+04</td>\n",
       "    </tr>\n",
       "    <tr>\n",
       "      <th>min</th>\n",
       "      <td>-5400.000000</td>\n",
       "      <td>1.003942e+06</td>\n",
       "    </tr>\n",
       "    <tr>\n",
       "      <th>25%</th>\n",
       "      <td>25.000000</td>\n",
       "      <td>1.032443e+06</td>\n",
       "    </tr>\n",
       "    <tr>\n",
       "      <th>50%</th>\n",
       "      <td>50.000000</td>\n",
       "      <td>1.046975e+06</td>\n",
       "    </tr>\n",
       "    <tr>\n",
       "      <th>75%</th>\n",
       "      <td>100.000000</td>\n",
       "      <td>1.051507e+06</td>\n",
       "    </tr>\n",
       "    <tr>\n",
       "      <th>max</th>\n",
       "      <td>10800.000000</td>\n",
       "      <td>1.051624e+06</td>\n",
       "    </tr>\n",
       "  </tbody>\n",
       "</table>\n",
       "</div>"
      ],
      "text/plain": [
       "       contb_receipt_amt      file_num\n",
       "count       20000.000000  2.000000e+04\n",
       "mean          272.404752  1.042429e+06\n",
       "std           738.984362  1.018850e+04\n",
       "min         -5400.000000  1.003942e+06\n",
       "25%            25.000000  1.032443e+06\n",
       "50%            50.000000  1.046975e+06\n",
       "75%           100.000000  1.051507e+06\n",
       "max         10800.000000  1.051624e+06"
      ]
     },
     "execution_count": 90,
     "metadata": {},
     "output_type": "execute_result"
    }
   ],
   "source": [
    "# There are negative values\n",
    "df.describe()"
   ]
  },
  {
   "cell_type": "markdown",
   "id": "476be7f1",
   "metadata": {},
   "source": [
    "11. Attribute contbr_zip has the zip code of a contributor.  Are all zip codes in the same format?  If not, do you think it would be appropriate to process the zip code data?"
   ]
  },
  {
   "cell_type": "code",
   "execution_count": 108,
   "id": "34722dd5",
   "metadata": {},
   "outputs": [
    {
     "data": {
      "text/plain": [
       "9    19402\n",
       "5      598\n",
       "Name: contbr_zip, dtype: int64"
      ]
     },
     "execution_count": 108,
     "metadata": {},
     "output_type": "execute_result"
    }
   ],
   "source": [
    "df['contbr_zip'].str.len().value_counts()"
   ]
  },
  {
   "cell_type": "code",
   "execution_count": 109,
   "id": "d63b23b2",
   "metadata": {},
   "outputs": [
    {
     "data": {
      "text/plain": [
       "0    900243119\n",
       "1    916042020\n",
       "2    922344815\n",
       "3    905012518\n",
       "4    945494640\n",
       "5    920818643\n",
       "6    926482986\n",
       "7    941024127\n",
       "8    930012464\n",
       "9    940273414\n",
       "Name: contbr_zip, dtype: object"
      ]
     },
     "execution_count": 109,
     "metadata": {},
     "output_type": "execute_result"
    }
   ],
   "source": [
    "df['contbr_zip'].head(10)"
   ]
  },
  {
   "cell_type": "code",
   "execution_count": 113,
   "id": "6d3e9aeb",
   "metadata": {},
   "outputs": [
    {
     "data": {
      "text/plain": [
       "13710"
      ]
     },
     "execution_count": 113,
     "metadata": {},
     "output_type": "execute_result"
    }
   ],
   "source": [
    "# huge number of unique values\n",
    "len(df['contbr_zip'].unique())"
   ]
  },
  {
   "cell_type": "code",
   "execution_count": null,
   "id": "c951345b",
   "metadata": {},
   "outputs": [],
   "source": [
    "# Maybe just convert them to 5 digit zips\n",
    "# Further aggregate around locality using zip\n",
    "# City, Zip, State should be highly correlated, maybe decide which columns to drop"
   ]
  },
  {
   "cell_type": "markdown",
   "id": "90cee095",
   "metadata": {},
   "source": [
    "12. Create a histogram of the lengths of contbr_employer values (i.e., the length of the values as strings).  Is the distribution unusual?  Give an explanation, based on working with the data, of why some employer length values seem to be very popular."
   ]
  },
  {
   "cell_type": "code",
   "execution_count": 114,
   "id": "4bd97816",
   "metadata": {},
   "outputs": [
    {
     "data": {
      "text/plain": [
       "<AxesSubplot:>"
      ]
     },
     "execution_count": 114,
     "metadata": {},
     "output_type": "execute_result"
    },
    {
     "data": {
      "image/png": "[encoded data removed]",
      "text/plain": [
       "<Figure size 648x504 with 1 Axes>"
      ]
     },
     "metadata": {},
     "output_type": "display_data"
    }
   ],
   "source": [
    "df['contbr_employer'].str.len().hist()"
   ]
  },
  {
   "cell_type": "code",
   "execution_count": null,
   "id": "98b43705",
   "metadata": {},
   "outputs": [],
   "source": [
    "# There are common labels such as \"SELF\" and \"Retired\" used to group employees"
   ]
  },
  {
   "cell_type": "markdown",
   "id": "f55707c9",
   "metadata": {},
   "source": [
    "13. If we scale a vector of numeric values using 0-1 scaling, then the smallest value in the vector will become 0, the largest will become 1, and the others will be scaled linearly between 0 and 1.  Create a new attribute, s_amt1, from ‘contb_receipt_amt’ by using 0-1 scaling. "
   ]
  },
  {
   "cell_type": "code",
   "execution_count": 115,
   "id": "7fd97fd0",
   "metadata": {},
   "outputs": [],
   "source": [
    "col_min = df['contb_receipt_amt'].min()\n",
    "col_max = df['contb_receipt_amt'].max()\n",
    "df['amt_scaled'] = (df['contb_receipt_amt'] - col_min) / (col_max - col_min)"
   ]
  },
  {
   "cell_type": "markdown",
   "id": "a02f1914",
   "metadata": {},
   "source": [
    "14. What do memo_cd values mean?  How do they relate to the values in ‘memo_text’?  Note: an \"earmarked\" contribution is one that's not given directly to a candidate but marked to indicate the candidate to which the contribution will be given."
   ]
  },
  {
   "cell_type": "code",
   "execution_count": 140,
   "id": "0b01b423",
   "metadata": {
    "scrolled": true
   },
   "outputs": [
    {
     "data": {
      "text/plain": [
       "memo_cd  memo_text                 \n",
       "X        * HILLARY VICTORY FUND        305\n",
       "         REDESIGNATION FROM PRIMARY     83\n",
       "         REDESIGNATION TO GENERAL       67\n",
       "         REATTRIBUTION FROM SPOUSE      31\n",
       "         REATTRIBUTION TO SPOUSE        31\n",
       "dtype: int64"
      ]
     },
     "execution_count": 140,
     "metadata": {},
     "output_type": "execute_result"
    }
   ],
   "source": [
    "df[['memo_cd','memo_text']][~df['memo_cd'].isnull()].value_counts()[:5]"
   ]
  },
  {
   "cell_type": "code",
   "execution_count": 139,
   "id": "a8eac972",
   "metadata": {
    "scrolled": true
   },
   "outputs": [
    {
     "data": {
      "text/plain": [
       "* EARMARKED CONTRIBUTION: SEE BELOW                    7122\n",
       "EARMARKED FROM MAKE DC LISTEN                            64\n",
       "SEE REATTRIBUTION                                        23\n",
       "REATTRIBUTION / REDESIGNATION REQUESTED                  19\n",
       "REATTRIBUTION / REDESIGNATION REQUESTED (AUTOMATIC)      10\n",
       "Name: memo_text, dtype: int64"
      ]
     },
     "execution_count": 139,
     "metadata": {},
     "output_type": "execute_result"
    }
   ],
   "source": [
    "df[df['memo_cd'].isnull() & ~df['memo_text'].isnull()]['memo_text'].value_counts()[:5]"
   ]
  },
  {
   "cell_type": "markdown",
   "id": "da761c33",
   "metadata": {},
   "source": [
    "15. If you still have time, try some of the other methods discussed in the lecture for finding and fixing bad data."
   ]
  },
  {
   "cell_type": "code",
   "execution_count": null,
   "id": "4e35eee7",
   "metadata": {},
   "outputs": [],
   "source": []
  },
  {
   "cell_type": "markdown",
   "id": "cd2e25a1",
   "metadata": {},
   "source": [
    "16. If you still have time, try creating a new attribute s_am2 from the same attribute by using Z-score normalization.  In Z-score normalization of a numeric vector, the mean value in the vector will become 0, a value 1 standard deviation about the mean will become 1, a value 1 standard deviation below the mean will become -1, etc."
   ]
  },
  {
   "cell_type": "code",
   "execution_count": null,
   "id": "e43046d1",
   "metadata": {},
   "outputs": [],
   "source": []
  }
 ],
 "metadata": {
  "kernelspec": {
   "display_name": "Python 3 (ipykernel)",
   "language": "python",
   "name": "python3"
  },
  "language_info": {
   "codemirror_mode": {
    "name": "ipython",
    "version": 3
   },
   "file_extension": ".py",
   "mimetype": "text/x-python",
   "name": "python",
   "nbconvert_exporter": "python",
   "pygments_lexer": "ipython3",
   "version": "3.9.7"
  }
 },
 "nbformat": 4,
 "nbformat_minor": 5
}
