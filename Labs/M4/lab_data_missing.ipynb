{
 "cells": [
  {
   "cell_type": "markdown",
   "id": "ebef5346",
   "metadata": {},
   "source": [
    "**NAME**: Raymond Shum\n",
    "\n",
    "**CLASS**: CST383-30_SP22\n",
    "\n",
    "**ASSIGNMENT**: W4, Lab 2 - Missing Data\n",
    "\n",
    "**DUE DATE**: Feb. 1, 2022\n"
   ]
  },
  {
   "cell_type": "code",
   "execution_count": 13,
   "id": "f76a400b",
   "metadata": {},
   "outputs": [],
   "source": [
    "import numpy as np\n",
    "import pandas as pd\n",
    "import seaborn as sns\n",
    "from matplotlib import rcParams\n",
    "\n",
    "# allow output to span multiple output lines in the console\n",
    "pd.set_option('display.max_columns', 500)\n",
    "\n",
    "# switch to seaborn default stylistic parameters\n",
    "# see the useful https://seaborn.pydata.org/tutorial/aesthetics.html\n",
    "sns.set()\n",
    "sns.set_context('paper') # 'talk' for slightly larger\n",
    "\n",
    "# change default plot size\n",
    "rcParams['figure.figsize'] = 9,7"
   ]
  },
  {
   "cell_type": "markdown",
   "id": "de6a21e3",
   "metadata": {},
   "source": [
    "In this lab we'll practice treating NA values in Pandas.  Remember, in Pandas both None and nan values are thought of as NA values."
   ]
  },
  {
   "cell_type": "markdown",
   "id": "b766ba9e",
   "metadata": {},
   "source": [
    "1. We’ll start with data on air quality in New York City in 1973. Here is a link:\n",
    "\n",
    "https://raw.githubusercontent.com/grbruns/cst383/master/airquality.csv (Links to an external site.)\n",
    "(source of data: 'airquality' data set supplied with R programming language)\n",
    "\n",
    "Read the data as a Pandas data frame as variable 'df'."
   ]
  },
  {
   "cell_type": "code",
   "execution_count": 3,
   "id": "457409cb",
   "metadata": {},
   "outputs": [],
   "source": [
    "df = pd.read_csv(\"https://raw.githubusercontent.com/grbruns/cst383/master/airquality.csv\")"
   ]
  },
  {
   "cell_type": "markdown",
   "id": "ff2ef7ea",
   "metadata": {},
   "source": [
    "2. Display the first rows of the data frame in the console."
   ]
  },
  {
   "cell_type": "code",
   "execution_count": 5,
   "id": "55943ac1",
   "metadata": {},
   "outputs": [
    {
     "data": {
      "text/html": [
       "<div>\n",
       "<style scoped>\n",
       "    .dataframe tbody tr th:only-of-type {\n",
       "        vertical-align: middle;\n",
       "    }\n",
       "\n",
       "    .dataframe tbody tr th {\n",
       "        vertical-align: top;\n",
       "    }\n",
       "\n",
       "    .dataframe thead th {\n",
       "        text-align: right;\n",
       "    }\n",
       "</style>\n",
       "<table border=\"1\" class=\"dataframe\">\n",
       "  <thead>\n",
       "    <tr style=\"text-align: right;\">\n",
       "      <th></th>\n",
       "      <th>Ozone</th>\n",
       "      <th>Solar_R</th>\n",
       "      <th>Wind</th>\n",
       "      <th>Temp</th>\n",
       "      <th>Month</th>\n",
       "      <th>Day</th>\n",
       "    </tr>\n",
       "  </thead>\n",
       "  <tbody>\n",
       "    <tr>\n",
       "      <th>0</th>\n",
       "      <td>41.0</td>\n",
       "      <td>190.0</td>\n",
       "      <td>7.4</td>\n",
       "      <td>67</td>\n",
       "      <td>5</td>\n",
       "      <td>1</td>\n",
       "    </tr>\n",
       "    <tr>\n",
       "      <th>1</th>\n",
       "      <td>36.0</td>\n",
       "      <td>118.0</td>\n",
       "      <td>8.0</td>\n",
       "      <td>72</td>\n",
       "      <td>5</td>\n",
       "      <td>2</td>\n",
       "    </tr>\n",
       "    <tr>\n",
       "      <th>2</th>\n",
       "      <td>12.0</td>\n",
       "      <td>149.0</td>\n",
       "      <td>12.6</td>\n",
       "      <td>74</td>\n",
       "      <td>5</td>\n",
       "      <td>3</td>\n",
       "    </tr>\n",
       "    <tr>\n",
       "      <th>3</th>\n",
       "      <td>18.0</td>\n",
       "      <td>313.0</td>\n",
       "      <td>11.5</td>\n",
       "      <td>62</td>\n",
       "      <td>5</td>\n",
       "      <td>4</td>\n",
       "    </tr>\n",
       "    <tr>\n",
       "      <th>4</th>\n",
       "      <td>NaN</td>\n",
       "      <td>NaN</td>\n",
       "      <td>14.3</td>\n",
       "      <td>56</td>\n",
       "      <td>5</td>\n",
       "      <td>5</td>\n",
       "    </tr>\n",
       "  </tbody>\n",
       "</table>\n",
       "</div>"
      ],
      "text/plain": [
       "   Ozone  Solar_R  Wind  Temp  Month  Day\n",
       "0   41.0    190.0   7.4    67      5    1\n",
       "1   36.0    118.0   8.0    72      5    2\n",
       "2   12.0    149.0  12.6    74      5    3\n",
       "3   18.0    313.0  11.5    62      5    4\n",
       "4    NaN      NaN  14.3    56      5    5"
      ]
     },
     "execution_count": 5,
     "metadata": {},
     "output_type": "execute_result"
    }
   ],
   "source": [
    "df.head()"
   ]
  },
  {
   "cell_type": "markdown",
   "id": "6d53af63",
   "metadata": {},
   "source": [
    "3. What are the types of columns in the data frame?  Write the code to display them."
   ]
  },
  {
   "cell_type": "code",
   "execution_count": 16,
   "id": "92c7093d",
   "metadata": {},
   "outputs": [
    {
     "name": "stdout",
     "output_type": "stream",
     "text": [
      "<class 'pandas.core.frame.DataFrame'>\n",
      "RangeIndex: 153 entries, 0 to 152\n",
      "Data columns (total 6 columns):\n",
      " #   Column   Non-Null Count  Dtype  \n",
      "---  ------   --------------  -----  \n",
      " 0   Ozone    116 non-null    float64\n",
      " 1   Solar_R  146 non-null    float64\n",
      " 2   Wind     153 non-null    float64\n",
      " 3   Temp     153 non-null    int64  \n",
      " 4   Month    153 non-null    int64  \n",
      " 5   Day      153 non-null    int64  \n",
      "dtypes: float64(3), int64(3)\n",
      "memory usage: 7.3 KB\n"
     ]
    }
   ],
   "source": [
    "df.info()"
   ]
  },
  {
   "cell_type": "markdown",
   "id": "38776f19",
   "metadata": {},
   "source": [
    "4. What is the total number of NA values in the data frame?  What fraction of all the values in the data frame are NA's?"
   ]
  },
  {
   "cell_type": "code",
   "execution_count": 10,
   "id": "13c8345a",
   "metadata": {},
   "outputs": [
    {
     "data": {
      "text/plain": [
       "44"
      ]
     },
     "execution_count": 10,
     "metadata": {},
     "output_type": "execute_result"
    }
   ],
   "source": [
    "df.isnull().sum().sum()"
   ]
  },
  {
   "cell_type": "markdown",
   "id": "3c4b70ee",
   "metadata": {},
   "source": [
    "5. How many rows contain NA values?"
   ]
  },
  {
   "cell_type": "code",
   "execution_count": 15,
   "id": "e43d9164",
   "metadata": {},
   "outputs": [
    {
     "data": {
      "text/plain": [
       "42"
      ]
     },
     "execution_count": 15,
     "metadata": {},
     "output_type": "execute_result"
    }
   ],
   "source": [
    "np.sum(df.isnull().sum(axis=1) > 0)"
   ]
  },
  {
   "cell_type": "markdown",
   "id": "279cec8b",
   "metadata": {},
   "source": [
    "6. For each column, what fraction of the column values are NA values?"
   ]
  },
  {
   "cell_type": "code",
   "execution_count": 29,
   "id": "b6df89fe",
   "metadata": {},
   "outputs": [
    {
     "data": {
      "text/plain": [
       "Ozone      0.241830\n",
       "Solar_R    0.045752\n",
       "Wind       0.000000\n",
       "Temp       0.000000\n",
       "Month      0.000000\n",
       "Day        0.000000\n",
       "dtype: float64"
      ]
     },
     "execution_count": 29,
     "metadata": {},
     "output_type": "execute_result"
    }
   ],
   "source": [
    "df.isnull().sum() / len(df)"
   ]
  },
  {
   "cell_type": "markdown",
   "id": "66d18ec5",
   "metadata": {},
   "source": [
    "7. For each row, what fraction of the row values are NA?"
   ]
  },
  {
   "cell_type": "code",
   "execution_count": 39,
   "id": "e9dffce0",
   "metadata": {},
   "outputs": [
    {
     "data": {
      "text/plain": [
       "0      0.000000\n",
       "1      0.000000\n",
       "2      0.000000\n",
       "3      0.000000\n",
       "4      0.333333\n",
       "         ...   \n",
       "148    0.000000\n",
       "149    0.166667\n",
       "150    0.000000\n",
       "151    0.000000\n",
       "152    0.000000\n",
       "Length: 153, dtype: float64"
      ]
     },
     "execution_count": 39,
     "metadata": {},
     "output_type": "execute_result"
    }
   ],
   "source": [
    "df.isnull().sum(axis=1) / df.shape[1]"
   ]
  },
  {
   "cell_type": "markdown",
   "id": "89f70823",
   "metadata": {},
   "source": [
    "8. Following problem 6, plot, for each column, the fraction of the values in that column that are NA."
   ]
  },
  {
   "cell_type": "code",
   "execution_count": 41,
   "id": "1e9fdfdd",
   "metadata": {},
   "outputs": [
    {
     "data": {
      "text/plain": [
       "<AxesSubplot:title={'center':'Fraction NA per column'}>"
      ]
     },
     "execution_count": 41,
     "metadata": {},
     "output_type": "execute_result"
    },
    {
     "data": {
      "image/png": "[encoded data removed]",
      "text/plain": [
       "<Figure size 648x504 with 1 Axes>"
      ]
     },
     "metadata": {},
     "output_type": "display_data"
    }
   ],
   "source": [
    "na_val = df.isnull().sum() / len(df)\n",
    "na_val.plot(title=\"Fraction NA per column\", kind='bar')"
   ]
  },
  {
   "cell_type": "markdown",
   "id": "2af276bc",
   "metadata": {},
   "source": [
    "9. In this data set, if you decided to remove the NA values, would you do it by removing rows, or by removing columns?"
   ]
  },
  {
   "cell_type": "markdown",
   "id": "6333264e",
   "metadata": {},
   "source": [
    "I would remove columns unless the rows were unusable with an null value in that cell. Seems the majority of the columns have no issues with null values."
   ]
  },
  {
   "cell_type": "markdown",
   "id": "fc9dfee4",
   "metadata": {},
   "source": [
    "10. Create a new data frame df_cleanrows that is like dat except all rows containing NA values are removed.  Verify that there are no NA values in df_cleanrows."
   ]
  },
  {
   "cell_type": "code",
   "execution_count": 44,
   "id": "6ae07952",
   "metadata": {},
   "outputs": [
    {
     "data": {
      "text/plain": [
       "0"
      ]
     },
     "execution_count": 44,
     "metadata": {},
     "output_type": "execute_result"
    }
   ],
   "source": [
    "df_cleanrows = df.dropna()\n",
    "df_cleanrows.isnull().sum().sum()"
   ]
  },
  {
   "cell_type": "markdown",
   "id": "20519fee",
   "metadata": {},
   "source": [
    "11. Create a new data frame df_cleancols that is like dat except all columns containing NA values are removed."
   ]
  },
  {
   "cell_type": "code",
   "execution_count": 47,
   "id": "2628ee0e",
   "metadata": {},
   "outputs": [
    {
     "name": "stdout",
     "output_type": "stream",
     "text": [
      "<class 'pandas.core.frame.DataFrame'>\n",
      "RangeIndex: 153 entries, 0 to 152\n",
      "Data columns (total 4 columns):\n",
      " #   Column  Non-Null Count  Dtype  \n",
      "---  ------  --------------  -----  \n",
      " 0   Wind    153 non-null    float64\n",
      " 1   Temp    153 non-null    int64  \n",
      " 2   Month   153 non-null    int64  \n",
      " 3   Day     153 non-null    int64  \n",
      "dtypes: float64(1), int64(3)\n",
      "memory usage: 4.9 KB\n"
     ]
    },
    {
     "data": {
      "text/plain": [
       "0"
      ]
     },
     "execution_count": 47,
     "metadata": {},
     "output_type": "execute_result"
    }
   ],
   "source": [
    "df_cleancols = df.dropna(axis=1)\n",
    "df_cleancols.info()\n",
    "df_cleancols.isnull().sum().sum()"
   ]
  },
  {
   "cell_type": "markdown",
   "id": "6b70f8cc",
   "metadata": {},
   "source": [
    "12. Which contains more data, df_cleanrows, or df_cleancols? "
   ]
  },
  {
   "cell_type": "code",
   "execution_count": 51,
   "id": "bbeaa350",
   "metadata": {},
   "outputs": [
    {
     "data": {
      "text/plain": [
       "'df_cleanrows'"
      ]
     },
     "execution_count": 51,
     "metadata": {},
     "output_type": "execute_result"
    }
   ],
   "source": [
    "# does not actually account for equal\n",
    "\"df_cleanrows\" if df_cleanrows.size > df_cleancols.size else 'df_cleancols'"
   ]
  },
  {
   "cell_type": "markdown",
   "id": "a74ddbdf",
   "metadata": {},
   "source": [
    "13. Create a new data frame df_med from your original data frame ‘df’ by replacing each NA value with the median of its column."
   ]
  },
  {
   "cell_type": "code",
   "execution_count": 55,
   "id": "0186e859",
   "metadata": {},
   "outputs": [],
   "source": [
    "col_med = {col: df[col].median() for col in df.columns}\n",
    "df_med = df.fillna(col_med)"
   ]
  },
  {
   "cell_type": "markdown",
   "id": "f9812b71",
   "metadata": {},
   "source": [
    "14. Create a new data frame df_mean from your original data frame ‘df’ by replacing each NA value with the mean of its column."
   ]
  },
  {
   "cell_type": "code",
   "execution_count": 57,
   "id": "b3b1b187",
   "metadata": {},
   "outputs": [],
   "source": [
    "col_mean = {col: df[col].mean() for col in df.columns}\n",
    "df_mean = df.fillna(col_mean)"
   ]
  },
  {
   "cell_type": "markdown",
   "id": "10fbcb23",
   "metadata": {},
   "source": [
    "15. If you still have time, write code to handle missing values in the Iris dataset as described at the end of the lecture. \n",
    "\n",
    "Here is a URL for the Iris dataset used in the lecture.\n",
    "https://raw.githubusercontent.com/grbruns/cst383/master/iris-na.csv"
   ]
  },
  {
   "cell_type": "code",
   "execution_count": 59,
   "id": "0a64a59b",
   "metadata": {},
   "outputs": [],
   "source": [
    "df = pd.read_csv('https://raw.githubusercontent.com/grbruns/cst383/master/iris-na.csv')"
   ]
  },
  {
   "cell_type": "code",
   "execution_count": 60,
   "id": "d0fb4196",
   "metadata": {},
   "outputs": [
    {
     "data": {
      "text/html": [
       "<div>\n",
       "<style scoped>\n",
       "    .dataframe tbody tr th:only-of-type {\n",
       "        vertical-align: middle;\n",
       "    }\n",
       "\n",
       "    .dataframe tbody tr th {\n",
       "        vertical-align: top;\n",
       "    }\n",
       "\n",
       "    .dataframe thead th {\n",
       "        text-align: right;\n",
       "    }\n",
       "</style>\n",
       "<table border=\"1\" class=\"dataframe\">\n",
       "  <thead>\n",
       "    <tr style=\"text-align: right;\">\n",
       "      <th></th>\n",
       "      <th>s_len</th>\n",
       "      <th>s_wid</th>\n",
       "      <th>p_len</th>\n",
       "      <th>p_wid</th>\n",
       "      <th>species</th>\n",
       "    </tr>\n",
       "  </thead>\n",
       "  <tbody>\n",
       "    <tr>\n",
       "      <th>0</th>\n",
       "      <td>5.0</td>\n",
       "      <td>3.5</td>\n",
       "      <td>1.6</td>\n",
       "      <td>0.6</td>\n",
       "      <td>setosa</td>\n",
       "    </tr>\n",
       "    <tr>\n",
       "      <th>1</th>\n",
       "      <td>7.7</td>\n",
       "      <td>3.8</td>\n",
       "      <td>NaN</td>\n",
       "      <td>2.2</td>\n",
       "      <td>virginica</td>\n",
       "    </tr>\n",
       "    <tr>\n",
       "      <th>2</th>\n",
       "      <td>5.0</td>\n",
       "      <td>2.0</td>\n",
       "      <td>NaN</td>\n",
       "      <td>1.0</td>\n",
       "      <td>versicolor</td>\n",
       "    </tr>\n",
       "    <tr>\n",
       "      <th>3</th>\n",
       "      <td>7.2</td>\n",
       "      <td>3.0</td>\n",
       "      <td>5.8</td>\n",
       "      <td>1.6</td>\n",
       "      <td>virginica</td>\n",
       "    </tr>\n",
       "    <tr>\n",
       "      <th>4</th>\n",
       "      <td>0.0</td>\n",
       "      <td>3.1</td>\n",
       "      <td>NaN</td>\n",
       "      <td>1.8</td>\n",
       "      <td>virginica</td>\n",
       "    </tr>\n",
       "  </tbody>\n",
       "</table>\n",
       "</div>"
      ],
      "text/plain": [
       "   s_len  s_wid  p_len  p_wid     species\n",
       "0    5.0    3.5    1.6    0.6      setosa\n",
       "1    7.7    3.8    NaN    2.2   virginica\n",
       "2    5.0    2.0    NaN    1.0  versicolor\n",
       "3    7.2    3.0    5.8    1.6   virginica\n",
       "4    0.0    3.1    NaN    1.8   virginica"
      ]
     },
     "execution_count": 60,
     "metadata": {},
     "output_type": "execute_result"
    }
   ],
   "source": [
    "df.head()"
   ]
  },
  {
   "cell_type": "code",
   "execution_count": 61,
   "id": "0fd5e05b",
   "metadata": {},
   "outputs": [
    {
     "name": "stdout",
     "output_type": "stream",
     "text": [
      "<class 'pandas.core.frame.DataFrame'>\n",
      "RangeIndex: 12 entries, 0 to 11\n",
      "Data columns (total 5 columns):\n",
      " #   Column   Non-Null Count  Dtype  \n",
      "---  ------   --------------  -----  \n",
      " 0   s_len    12 non-null     float64\n",
      " 1   s_wid    11 non-null     float64\n",
      " 2   p_len    4 non-null      float64\n",
      " 3   p_wid    12 non-null     float64\n",
      " 4   species  11 non-null     object \n",
      "dtypes: float64(4), object(1)\n",
      "memory usage: 608.0+ bytes\n"
     ]
    }
   ],
   "source": [
    "df.info()"
   ]
  },
  {
   "cell_type": "code",
   "execution_count": 63,
   "id": "74f9b747",
   "metadata": {},
   "outputs": [
    {
     "data": {
      "text/plain": [
       "(12, 5)"
      ]
     },
     "execution_count": 63,
     "metadata": {},
     "output_type": "execute_result"
    }
   ],
   "source": [
    "df.shape"
   ]
  },
  {
   "cell_type": "code",
   "execution_count": null,
   "id": "b041e0f0",
   "metadata": {},
   "outputs": [],
   "source": [
    "# Drop p_len because it's > 60% null\n",
    "# Drop null row in species"
   ]
  },
  {
   "cell_type": "code",
   "execution_count": 65,
   "id": "f147c025",
   "metadata": {},
   "outputs": [
    {
     "data": {
      "text/html": [
       "<div>\n",
       "<style scoped>\n",
       "    .dataframe tbody tr th:only-of-type {\n",
       "        vertical-align: middle;\n",
       "    }\n",
       "\n",
       "    .dataframe tbody tr th {\n",
       "        vertical-align: top;\n",
       "    }\n",
       "\n",
       "    .dataframe thead th {\n",
       "        text-align: right;\n",
       "    }\n",
       "</style>\n",
       "<table border=\"1\" class=\"dataframe\">\n",
       "  <thead>\n",
       "    <tr style=\"text-align: right;\">\n",
       "      <th></th>\n",
       "      <th>s_len</th>\n",
       "      <th>s_wid</th>\n",
       "      <th>p_len</th>\n",
       "      <th>p_wid</th>\n",
       "      <th>species</th>\n",
       "    </tr>\n",
       "  </thead>\n",
       "  <tbody>\n",
       "    <tr>\n",
       "      <th>6</th>\n",
       "      <td>6.8</td>\n",
       "      <td>NaN</td>\n",
       "      <td>NaN</td>\n",
       "      <td>1.4</td>\n",
       "      <td>NaN</td>\n",
       "    </tr>\n",
       "  </tbody>\n",
       "</table>\n",
       "</div>"
      ],
      "text/plain": [
       "   s_len  s_wid  p_len  p_wid species\n",
       "6    6.8    NaN    NaN    1.4     NaN"
      ]
     },
     "execution_count": 65,
     "metadata": {},
     "output_type": "execute_result"
    }
   ],
   "source": [
    "# actually, the single null s_wid row can be dropped\n",
    "df[df['s_wid'].isnull()]"
   ]
  }
 ],
 "metadata": {
  "kernelspec": {
   "display_name": "Python 3 (ipykernel)",
   "language": "python",
   "name": "python3"
  },
  "language_info": {
   "codemirror_mode": {
    "name": "ipython",
    "version": 3
   },
   "file_extension": ".py",
   "mimetype": "text/x-python",
   "name": "python",
   "nbconvert_exporter": "python",
   "pygments_lexer": "ipython3",
   "version": "3.9.7"
  }
 },
 "nbformat": 4,
 "nbformat_minor": 5
}
