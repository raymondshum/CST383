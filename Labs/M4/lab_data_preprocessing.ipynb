{
 "cells": [
  {
   "cell_type": "markdown",
   "id": "913c2c54",
   "metadata": {},
   "source": [
    "**NAME**: Raymond Shum\n",
    "\n",
    "**CLASS**: CST383-30_SP22\n",
    "\n",
    "**ASSIGNMENT**: W4, Lab 4 - Preprocessing\n",
    "\n",
    "**DUE DATE**: Feb. 1, 2022"
   ]
  },
  {
   "cell_type": "code",
   "execution_count": 2,
   "id": "c2a557d9",
   "metadata": {},
   "outputs": [],
   "source": [
    "import numpy as np\n",
    "import pandas as pd\n",
    "from scipy.stats import zscore\n",
    "import matplotlib.pyplot as plt\n",
    "from matplotlib import rcParams\n",
    "import seaborn as sns\n",
    "\n",
    "# allow output to span multiple output lines in the console\n",
    "pd.set_option('display.max_columns', 500)\n",
    "\n",
    "# switch to seaborn default stylistic parameters\n",
    "# see the very useful https://seaborn.pydata.org/tutorial/aesthetics.html\n",
    "sns.set()\n",
    "sns.set_context('notebook')   \n",
    "# sns.set_context('paper')  # smaller\n",
    "# sns.set_context('talk')   # larger\n",
    "\n",
    "# change default plot size\n",
    "rcParams['figure.figsize'] = 9,7"
   ]
  },
  {
   "cell_type": "markdown",
   "id": "655e878f",
   "metadata": {},
   "source": [
    "Read the red wine data, which measures physical characteristics of wine, and whether people like the taste of the wine.  Note the use of the ‘sep’ parameter in read_csv()."
   ]
  },
  {
   "cell_type": "code",
   "execution_count": 3,
   "id": "403095ce",
   "metadata": {},
   "outputs": [],
   "source": [
    "wine = pd.read_csv(\"https://archive.ics.uci.edu/ml/machine-learning-databases/wine-quality/winequality-red.csv\", sep=\";\")"
   ]
  },
  {
   "cell_type": "markdown",
   "id": "5de9dd79",
   "metadata": {},
   "source": [
    "Make a small version of the data set named 'df' by selecting 20 random rows of it.  Use the small version until instructed otherwise."
   ]
  },
  {
   "cell_type": "code",
   "execution_count": 6,
   "id": "81b73af1",
   "metadata": {},
   "outputs": [],
   "source": [
    "df = wine.sample(20)\n",
    "df.reset_index(inplace=True)"
   ]
  },
  {
   "cell_type": "markdown",
   "id": "a0f694b6",
   "metadata": {},
   "source": [
    "Scale the data using Z score normalization."
   ]
  },
  {
   "cell_type": "code",
   "execution_count": 7,
   "id": "ca811f33",
   "metadata": {},
   "outputs": [],
   "source": [
    "df=df.apply(zscore)"
   ]
  },
  {
   "cell_type": "markdown",
   "id": "a261e424",
   "metadata": {},
   "source": [
    "In the scaled data, find the column minimums (a vector containing the minimum value for each column)."
   ]
  },
  {
   "cell_type": "code",
   "execution_count": 10,
   "id": "3c433ada",
   "metadata": {},
   "outputs": [
    {
     "data": {
      "text/plain": [
       "index                  -1.619573\n",
       "fixed acidity          -1.165481\n",
       "volatile acidity       -2.104188\n",
       "citric acid            -1.479333\n",
       "residual sugar         -1.080106\n",
       "chlorides              -2.021832\n",
       "free sulfur dioxide    -1.276706\n",
       "total sulfur dioxide   -1.515454\n",
       "density                -1.276176\n",
       "pH                     -2.296830\n",
       "sulphates              -2.062352\n",
       "alcohol                -1.546016\n",
       "quality                -2.549510\n",
       "Name: min, dtype: float64"
      ]
     },
     "execution_count": 10,
     "metadata": {},
     "output_type": "execute_result"
    }
   ],
   "source": [
    "df.describe().loc['min']"
   ]
  },
  {
   "cell_type": "markdown",
   "id": "4b98008a",
   "metadata": {},
   "source": [
    "Repeat, but for the column maximums.  Did you get the kinds of values you expected?"
   ]
  },
  {
   "cell_type": "code",
   "execution_count": 11,
   "id": "4ef9f25a",
   "metadata": {},
   "outputs": [
    {
     "data": {
      "text/plain": [
       "index                   1.699701\n",
       "fixed acidity           2.559544\n",
       "volatile acidity        1.753818\n",
       "citric acid             2.116836\n",
       "residual sugar          3.948958\n",
       "chlorides               2.778200\n",
       "free sulfur dioxide     2.403887\n",
       "total sulfur dioxide    2.199404\n",
       "density                 2.727715\n",
       "pH                      1.763864\n",
       "sulphates               2.212773\n",
       "alcohol                 1.660535\n",
       "quality                 1.372813\n",
       "Name: max, dtype: float64"
      ]
     },
     "execution_count": 11,
     "metadata": {},
     "output_type": "execute_result"
    }
   ],
   "source": [
    "df.describe().loc['max']"
   ]
  },
  {
   "cell_type": "markdown",
   "id": "9a3b78dc",
   "metadata": {},
   "source": [
    "Scale the data again using unit-interval normalization.  Scale the original small data set, not the version you just normalized."
   ]
  },
  {
   "cell_type": "code",
   "execution_count": 12,
   "id": "7da9a36b",
   "metadata": {},
   "outputs": [],
   "source": [
    "def scale(x):\n",
    "    return(x - x.min())/(x.max() - x.min())\n",
    "\n",
    "df = df.apply(scale)"
   ]
  },
  {
   "cell_type": "markdown",
   "id": "c36ef4d1",
   "metadata": {},
   "source": [
    "Again, find the column mins and maxes.  Did you get what you expected?"
   ]
  },
  {
   "cell_type": "code",
   "execution_count": 18,
   "id": "b3495fe6",
   "metadata": {},
   "outputs": [
    {
     "data": {
      "text/html": [
       "<div>\n",
       "<style scoped>\n",
       "    .dataframe tbody tr th:only-of-type {\n",
       "        vertical-align: middle;\n",
       "    }\n",
       "\n",
       "    .dataframe tbody tr th {\n",
       "        vertical-align: top;\n",
       "    }\n",
       "\n",
       "    .dataframe thead th {\n",
       "        text-align: right;\n",
       "    }\n",
       "</style>\n",
       "<table border=\"1\" class=\"dataframe\">\n",
       "  <thead>\n",
       "    <tr style=\"text-align: right;\">\n",
       "      <th></th>\n",
       "      <th>min</th>\n",
       "      <th>max</th>\n",
       "    </tr>\n",
       "  </thead>\n",
       "  <tbody>\n",
       "    <tr>\n",
       "      <th>index</th>\n",
       "      <td>0.0</td>\n",
       "      <td>1.0</td>\n",
       "    </tr>\n",
       "    <tr>\n",
       "      <th>fixed acidity</th>\n",
       "      <td>0.0</td>\n",
       "      <td>1.0</td>\n",
       "    </tr>\n",
       "    <tr>\n",
       "      <th>volatile acidity</th>\n",
       "      <td>0.0</td>\n",
       "      <td>1.0</td>\n",
       "    </tr>\n",
       "    <tr>\n",
       "      <th>citric acid</th>\n",
       "      <td>0.0</td>\n",
       "      <td>1.0</td>\n",
       "    </tr>\n",
       "    <tr>\n",
       "      <th>residual sugar</th>\n",
       "      <td>0.0</td>\n",
       "      <td>1.0</td>\n",
       "    </tr>\n",
       "    <tr>\n",
       "      <th>chlorides</th>\n",
       "      <td>0.0</td>\n",
       "      <td>1.0</td>\n",
       "    </tr>\n",
       "    <tr>\n",
       "      <th>free sulfur dioxide</th>\n",
       "      <td>0.0</td>\n",
       "      <td>1.0</td>\n",
       "    </tr>\n",
       "    <tr>\n",
       "      <th>total sulfur dioxide</th>\n",
       "      <td>0.0</td>\n",
       "      <td>1.0</td>\n",
       "    </tr>\n",
       "    <tr>\n",
       "      <th>density</th>\n",
       "      <td>0.0</td>\n",
       "      <td>1.0</td>\n",
       "    </tr>\n",
       "    <tr>\n",
       "      <th>pH</th>\n",
       "      <td>0.0</td>\n",
       "      <td>1.0</td>\n",
       "    </tr>\n",
       "    <tr>\n",
       "      <th>sulphates</th>\n",
       "      <td>0.0</td>\n",
       "      <td>1.0</td>\n",
       "    </tr>\n",
       "    <tr>\n",
       "      <th>alcohol</th>\n",
       "      <td>0.0</td>\n",
       "      <td>1.0</td>\n",
       "    </tr>\n",
       "    <tr>\n",
       "      <th>quality</th>\n",
       "      <td>0.0</td>\n",
       "      <td>1.0</td>\n",
       "    </tr>\n",
       "  </tbody>\n",
       "</table>\n",
       "</div>"
      ],
      "text/plain": [
       "                      min  max\n",
       "index                 0.0  1.0\n",
       "fixed acidity         0.0  1.0\n",
       "volatile acidity      0.0  1.0\n",
       "citric acid           0.0  1.0\n",
       "residual sugar        0.0  1.0\n",
       "chlorides             0.0  1.0\n",
       "free sulfur dioxide   0.0  1.0\n",
       "total sulfur dioxide  0.0  1.0\n",
       "density               0.0  1.0\n",
       "pH                    0.0  1.0\n",
       "sulphates             0.0  1.0\n",
       "alcohol               0.0  1.0\n",
       "quality               0.0  1.0"
      ]
     },
     "execution_count": 18,
     "metadata": {},
     "output_type": "execute_result"
    }
   ],
   "source": [
    "pd.DataFrame(data={'min':df.apply(np.min),'max':df.apply(np.max)})"
   ]
  },
  {
   "cell_type": "markdown",
   "id": "b453053d",
   "metadata": {},
   "source": [
    "Now we’ll return to the full data set.  Use 'df = wine' to assign 'wine' to variable 'df', then compute the correlation coefficient for  Use function pandas.dataframe.corr(r) to see how the features are correlated."
   ]
  },
  {
   "cell_type": "code",
   "execution_count": 67,
   "id": "62325401",
   "metadata": {},
   "outputs": [
    {
     "data": {
      "text/plain": [
       "<AxesSubplot:>"
      ]
     },
     "execution_count": 67,
     "metadata": {},
     "output_type": "execute_result"
    },
    {
     "data": {
      "image/png": "[encoded data removed]",
      "text/plain": [
       "<Figure size 648x504 with 2 Axes>"
      ]
     },
     "metadata": {},
     "output_type": "display_data"
    }
   ],
   "source": [
    "df = wine\n",
    "sns.heatmap(df.corr(), cmap=sns.color_palette(\"flare\", as_cmap=True), annot=True)"
   ]
  },
  {
   "cell_type": "markdown",
   "id": "a5b9ddf6",
   "metadata": {},
   "source": [
    "Looking at the matrix of correlations, which features are the most positively correlated?  (Don't consider the correlation between a feature and itself.)  Which are the most negatively correlated?"
   ]
  },
  {
   "cell_type": "code",
   "execution_count": 79,
   "id": "aae0caef",
   "metadata": {
    "scrolled": true
   },
   "outputs": [
    {
     "data": {
      "text/plain": [
       "fixed acidity                    citric acid\n",
       "volatile acidity                          pH\n",
       "citric acid                    fixed acidity\n",
       "residual sugar                       density\n",
       "chlorides                          sulphates\n",
       "free sulfur dioxide     total sulfur dioxide\n",
       "total sulfur dioxide     free sulfur dioxide\n",
       "density                        fixed acidity\n",
       "pH                          volatile acidity\n",
       "sulphates                          chlorides\n",
       "alcohol                              quality\n",
       "quality                              alcohol\n",
       "dtype: object"
      ]
     },
     "execution_count": 79,
     "metadata": {},
     "output_type": "execute_result"
    }
   ],
   "source": [
    "# index 1 is the feature's correlation with itself\n",
    "max = df.corr().apply(lambda x: x.sort_values(ascending=False).index[1])\n",
    "max"
   ]
  },
  {
   "cell_type": "code",
   "execution_count": 80,
   "id": "dfe1cd80",
   "metadata": {},
   "outputs": [
    {
     "data": {
      "text/plain": [
       "fixed acidity                         pH\n",
       "volatile acidity             citric acid\n",
       "citric acid             volatile acidity\n",
       "residual sugar                        pH\n",
       "chlorides                             pH\n",
       "free sulfur dioxide        fixed acidity\n",
       "total sulfur dioxide             alcohol\n",
       "density                          alcohol\n",
       "pH                         fixed acidity\n",
       "sulphates               volatile acidity\n",
       "alcohol                          density\n",
       "quality                 volatile acidity\n",
       "dtype: object"
      ]
     },
     "execution_count": 80,
     "metadata": {},
     "output_type": "execute_result"
    }
   ],
   "source": [
    "min = df.corr().apply(lambda x: x.sort_values().index[0])\n",
    "min"
   ]
  },
  {
   "cell_type": "markdown",
   "id": "287b365c",
   "metadata": {},
   "source": [
    "Display the correlations with a plot, and answer the questions of the previous problem again."
   ]
  },
  {
   "cell_type": "code",
   "execution_count": 78,
   "id": "c279bcae",
   "metadata": {},
   "outputs": [],
   "source": [
    "# See above heatmap"
   ]
  },
  {
   "cell_type": "markdown",
   "id": "0779b46c",
   "metadata": {},
   "source": [
    "Which features are most correlated to the ‘quality’ variable?  Express what you find in plain English?"
   ]
  },
  {
   "cell_type": "code",
   "execution_count": null,
   "id": "42e99ffb",
   "metadata": {},
   "outputs": [],
   "source": [
    "# Positive: alcohol, negative: volatile acidity"
   ]
  },
  {
   "cell_type": "markdown",
   "id": "65bbdaa6",
   "metadata": {},
   "source": [
    "Is the wine data tidy?"
   ]
  },
  {
   "cell_type": "code",
   "execution_count": 84,
   "id": "74564a28",
   "metadata": {},
   "outputs": [],
   "source": [
    "# It seems that each row conceptually represents one observation"
   ]
  },
  {
   "cell_type": "markdown",
   "id": "1f2932e2",
   "metadata": {},
   "source": [
    "1. Generate some fake GPA data using the following code:"
   ]
  },
  {
   "cell_type": "code",
   "execution_count": 86,
   "id": "105bc3ca",
   "metadata": {},
   "outputs": [],
   "source": [
    "n=10   # number of students\n",
    "sem_years = np.array([s+' '+str(y) for y in np.arange(14,19) for s in ['spring', 'fall']])\n",
    "gpa = np.random.normal(loc=3, scale=0.5, size=(n,sem_years.size))\n",
    "gpa = np.clip(gpa, 0, 4)\n",
    "gpa = pd.DataFrame(gpa, columns=sem_years)\n",
    "otter_ids = pd.DataFrame({'otter_id': np.random.randint(1000, 10000, n)})\n",
    "gpa_by_semester = pd.concat([otter_ids, gpa], axis=1)"
   ]
  },
  {
   "cell_type": "markdown",
   "id": "9be886d8",
   "metadata": {},
   "source": [
    "Convert the data into the long format.  Change the column names appropriately."
   ]
  },
  {
   "cell_type": "code",
   "execution_count": 92,
   "id": "56746a71",
   "metadata": {
    "scrolled": false
   },
   "outputs": [
    {
     "data": {
      "text/html": [
       "<div>\n",
       "<style scoped>\n",
       "    .dataframe tbody tr th:only-of-type {\n",
       "        vertical-align: middle;\n",
       "    }\n",
       "\n",
       "    .dataframe tbody tr th {\n",
       "        vertical-align: top;\n",
       "    }\n",
       "\n",
       "    .dataframe thead th {\n",
       "        text-align: right;\n",
       "    }\n",
       "</style>\n",
       "<table border=\"1\" class=\"dataframe\">\n",
       "  <thead>\n",
       "    <tr style=\"text-align: right;\">\n",
       "      <th></th>\n",
       "      <th>otter_id</th>\n",
       "      <th>spring 14</th>\n",
       "      <th>fall 14</th>\n",
       "      <th>spring 15</th>\n",
       "      <th>fall 15</th>\n",
       "      <th>spring 16</th>\n",
       "      <th>fall 16</th>\n",
       "      <th>spring 17</th>\n",
       "      <th>fall 17</th>\n",
       "      <th>spring 18</th>\n",
       "      <th>fall 18</th>\n",
       "    </tr>\n",
       "  </thead>\n",
       "  <tbody>\n",
       "    <tr>\n",
       "      <th>0</th>\n",
       "      <td>4229</td>\n",
       "      <td>2.702865</td>\n",
       "      <td>3.143091</td>\n",
       "      <td>2.773878</td>\n",
       "      <td>2.701244</td>\n",
       "      <td>3.373293</td>\n",
       "      <td>2.297867</td>\n",
       "      <td>3.916387</td>\n",
       "      <td>2.357985</td>\n",
       "      <td>2.871663</td>\n",
       "      <td>2.681754</td>\n",
       "    </tr>\n",
       "    <tr>\n",
       "      <th>1</th>\n",
       "      <td>3423</td>\n",
       "      <td>3.129537</td>\n",
       "      <td>2.961680</td>\n",
       "      <td>2.623543</td>\n",
       "      <td>2.388781</td>\n",
       "      <td>3.219489</td>\n",
       "      <td>2.789931</td>\n",
       "      <td>3.387732</td>\n",
       "      <td>2.644710</td>\n",
       "      <td>4.000000</td>\n",
       "      <td>3.396580</td>\n",
       "    </tr>\n",
       "    <tr>\n",
       "      <th>2</th>\n",
       "      <td>7898</td>\n",
       "      <td>3.346868</td>\n",
       "      <td>2.762888</td>\n",
       "      <td>2.662914</td>\n",
       "      <td>3.300556</td>\n",
       "      <td>3.164420</td>\n",
       "      <td>2.603380</td>\n",
       "      <td>3.413967</td>\n",
       "      <td>2.655152</td>\n",
       "      <td>3.677816</td>\n",
       "      <td>3.382177</td>\n",
       "    </tr>\n",
       "    <tr>\n",
       "      <th>3</th>\n",
       "      <td>6269</td>\n",
       "      <td>3.068024</td>\n",
       "      <td>3.102092</td>\n",
       "      <td>2.617287</td>\n",
       "      <td>3.003168</td>\n",
       "      <td>3.433165</td>\n",
       "      <td>2.671048</td>\n",
       "      <td>3.162435</td>\n",
       "      <td>3.437500</td>\n",
       "      <td>4.000000</td>\n",
       "      <td>3.611123</td>\n",
       "    </tr>\n",
       "    <tr>\n",
       "      <th>4</th>\n",
       "      <td>2602</td>\n",
       "      <td>2.822576</td>\n",
       "      <td>2.938134</td>\n",
       "      <td>3.787274</td>\n",
       "      <td>3.107261</td>\n",
       "      <td>2.328352</td>\n",
       "      <td>2.514383</td>\n",
       "      <td>2.466945</td>\n",
       "      <td>3.606024</td>\n",
       "      <td>2.810077</td>\n",
       "      <td>2.613412</td>\n",
       "    </tr>\n",
       "  </tbody>\n",
       "</table>\n",
       "</div>"
      ],
      "text/plain": [
       "   otter_id  spring 14   fall 14  spring 15   fall 15  spring 16   fall 16  \\\n",
       "0      4229   2.702865  3.143091   2.773878  2.701244   3.373293  2.297867   \n",
       "1      3423   3.129537  2.961680   2.623543  2.388781   3.219489  2.789931   \n",
       "2      7898   3.346868  2.762888   2.662914  3.300556   3.164420  2.603380   \n",
       "3      6269   3.068024  3.102092   2.617287  3.003168   3.433165  2.671048   \n",
       "4      2602   2.822576  2.938134   3.787274  3.107261   2.328352  2.514383   \n",
       "\n",
       "   spring 17   fall 17  spring 18   fall 18  \n",
       "0   3.916387  2.357985   2.871663  2.681754  \n",
       "1   3.387732  2.644710   4.000000  3.396580  \n",
       "2   3.413967  2.655152   3.677816  3.382177  \n",
       "3   3.162435  3.437500   4.000000  3.611123  \n",
       "4   2.466945  3.606024   2.810077  2.613412  "
      ]
     },
     "execution_count": 92,
     "metadata": {},
     "output_type": "execute_result"
    }
   ],
   "source": [
    "gpa_by_semester.head()"
   ]
  },
  {
   "cell_type": "code",
   "execution_count": 103,
   "id": "94d4a7ef",
   "metadata": {},
   "outputs": [
    {
     "data": {
      "text/html": [
       "<div>\n",
       "<style scoped>\n",
       "    .dataframe tbody tr th:only-of-type {\n",
       "        vertical-align: middle;\n",
       "    }\n",
       "\n",
       "    .dataframe tbody tr th {\n",
       "        vertical-align: top;\n",
       "    }\n",
       "\n",
       "    .dataframe thead th {\n",
       "        text-align: right;\n",
       "    }\n",
       "</style>\n",
       "<table border=\"1\" class=\"dataframe\">\n",
       "  <thead>\n",
       "    <tr style=\"text-align: right;\">\n",
       "      <th></th>\n",
       "      <th>otter_id</th>\n",
       "      <th>sem_year</th>\n",
       "      <th>gpa</th>\n",
       "    </tr>\n",
       "  </thead>\n",
       "  <tbody>\n",
       "    <tr>\n",
       "      <th>0</th>\n",
       "      <td>4229</td>\n",
       "      <td>spring 14</td>\n",
       "      <td>2.702865</td>\n",
       "    </tr>\n",
       "    <tr>\n",
       "      <th>1</th>\n",
       "      <td>3423</td>\n",
       "      <td>spring 14</td>\n",
       "      <td>3.129537</td>\n",
       "    </tr>\n",
       "    <tr>\n",
       "      <th>2</th>\n",
       "      <td>7898</td>\n",
       "      <td>spring 14</td>\n",
       "      <td>3.346868</td>\n",
       "    </tr>\n",
       "    <tr>\n",
       "      <th>3</th>\n",
       "      <td>6269</td>\n",
       "      <td>spring 14</td>\n",
       "      <td>3.068024</td>\n",
       "    </tr>\n",
       "    <tr>\n",
       "      <th>4</th>\n",
       "      <td>2602</td>\n",
       "      <td>spring 14</td>\n",
       "      <td>2.822576</td>\n",
       "    </tr>\n",
       "    <tr>\n",
       "      <th>...</th>\n",
       "      <td>...</td>\n",
       "      <td>...</td>\n",
       "      <td>...</td>\n",
       "    </tr>\n",
       "    <tr>\n",
       "      <th>95</th>\n",
       "      <td>5809</td>\n",
       "      <td>fall 18</td>\n",
       "      <td>1.953284</td>\n",
       "    </tr>\n",
       "    <tr>\n",
       "      <th>96</th>\n",
       "      <td>8534</td>\n",
       "      <td>fall 18</td>\n",
       "      <td>2.838997</td>\n",
       "    </tr>\n",
       "    <tr>\n",
       "      <th>97</th>\n",
       "      <td>9348</td>\n",
       "      <td>fall 18</td>\n",
       "      <td>3.467202</td>\n",
       "    </tr>\n",
       "    <tr>\n",
       "      <th>98</th>\n",
       "      <td>6397</td>\n",
       "      <td>fall 18</td>\n",
       "      <td>3.604021</td>\n",
       "    </tr>\n",
       "    <tr>\n",
       "      <th>99</th>\n",
       "      <td>8884</td>\n",
       "      <td>fall 18</td>\n",
       "      <td>1.971997</td>\n",
       "    </tr>\n",
       "  </tbody>\n",
       "</table>\n",
       "<p>100 rows × 3 columns</p>\n",
       "</div>"
      ],
      "text/plain": [
       "    otter_id   sem_year       gpa\n",
       "0       4229  spring 14  2.702865\n",
       "1       3423  spring 14  3.129537\n",
       "2       7898  spring 14  3.346868\n",
       "3       6269  spring 14  3.068024\n",
       "4       2602  spring 14  2.822576\n",
       "..       ...        ...       ...\n",
       "95      5809    fall 18  1.953284\n",
       "96      8534    fall 18  2.838997\n",
       "97      9348    fall 18  3.467202\n",
       "98      6397    fall 18  3.604021\n",
       "99      8884    fall 18  1.971997\n",
       "\n",
       "[100 rows x 3 columns]"
      ]
     },
     "execution_count": 103,
     "metadata": {},
     "output_type": "execute_result"
    }
   ],
   "source": [
    "long = pd.melt(gpa_by_semester, id_vars=['otter_id'], value_vars=sem_years, var_name='sem_year', value_name='gpa')\n",
    "long"
   ]
  },
  {
   "cell_type": "markdown",
   "id": "917dcaad",
   "metadata": {},
   "source": [
    "If you still have time, sort the data frame by otter ID, then by semester (with ‘spring18’ before ‘fall18’ before ‘spring19’, etc.).  This is not a trivial problem."
   ]
  },
  {
   "cell_type": "code",
   "execution_count": 140,
   "id": "1d16e38c",
   "metadata": {},
   "outputs": [],
   "source": [
    "long['sem_year'] = pd.Categorical(long['sem_year'],categories=sem_years,ordered=True)"
   ]
  },
  {
   "cell_type": "code",
   "execution_count": 141,
   "id": "ae2f4959",
   "metadata": {},
   "outputs": [
    {
     "data": {
      "text/html": [
       "<div>\n",
       "<style scoped>\n",
       "    .dataframe tbody tr th:only-of-type {\n",
       "        vertical-align: middle;\n",
       "    }\n",
       "\n",
       "    .dataframe tbody tr th {\n",
       "        vertical-align: top;\n",
       "    }\n",
       "\n",
       "    .dataframe thead th {\n",
       "        text-align: right;\n",
       "    }\n",
       "</style>\n",
       "<table border=\"1\" class=\"dataframe\">\n",
       "  <thead>\n",
       "    <tr style=\"text-align: right;\">\n",
       "      <th></th>\n",
       "      <th>otter_id</th>\n",
       "      <th>sem_year</th>\n",
       "      <th>gpa</th>\n",
       "    </tr>\n",
       "  </thead>\n",
       "  <tbody>\n",
       "    <tr>\n",
       "      <th>4</th>\n",
       "      <td>2602</td>\n",
       "      <td>spring 14</td>\n",
       "      <td>2.822576</td>\n",
       "    </tr>\n",
       "    <tr>\n",
       "      <th>14</th>\n",
       "      <td>2602</td>\n",
       "      <td>fall 14</td>\n",
       "      <td>2.938134</td>\n",
       "    </tr>\n",
       "    <tr>\n",
       "      <th>24</th>\n",
       "      <td>2602</td>\n",
       "      <td>spring 15</td>\n",
       "      <td>3.787274</td>\n",
       "    </tr>\n",
       "    <tr>\n",
       "      <th>34</th>\n",
       "      <td>2602</td>\n",
       "      <td>fall 15</td>\n",
       "      <td>3.107261</td>\n",
       "    </tr>\n",
       "    <tr>\n",
       "      <th>44</th>\n",
       "      <td>2602</td>\n",
       "      <td>spring 16</td>\n",
       "      <td>2.328352</td>\n",
       "    </tr>\n",
       "    <tr>\n",
       "      <th>...</th>\n",
       "      <td>...</td>\n",
       "      <td>...</td>\n",
       "      <td>...</td>\n",
       "    </tr>\n",
       "    <tr>\n",
       "      <th>57</th>\n",
       "      <td>9348</td>\n",
       "      <td>fall 16</td>\n",
       "      <td>3.249109</td>\n",
       "    </tr>\n",
       "    <tr>\n",
       "      <th>67</th>\n",
       "      <td>9348</td>\n",
       "      <td>spring 17</td>\n",
       "      <td>2.965015</td>\n",
       "    </tr>\n",
       "    <tr>\n",
       "      <th>77</th>\n",
       "      <td>9348</td>\n",
       "      <td>fall 17</td>\n",
       "      <td>2.831280</td>\n",
       "    </tr>\n",
       "    <tr>\n",
       "      <th>87</th>\n",
       "      <td>9348</td>\n",
       "      <td>spring 18</td>\n",
       "      <td>3.199498</td>\n",
       "    </tr>\n",
       "    <tr>\n",
       "      <th>97</th>\n",
       "      <td>9348</td>\n",
       "      <td>fall 18</td>\n",
       "      <td>3.467202</td>\n",
       "    </tr>\n",
       "  </tbody>\n",
       "</table>\n",
       "<p>100 rows × 3 columns</p>\n",
       "</div>"
      ],
      "text/plain": [
       "    otter_id   sem_year       gpa\n",
       "4       2602  spring 14  2.822576\n",
       "14      2602    fall 14  2.938134\n",
       "24      2602  spring 15  3.787274\n",
       "34      2602    fall 15  3.107261\n",
       "44      2602  spring 16  2.328352\n",
       "..       ...        ...       ...\n",
       "57      9348    fall 16  3.249109\n",
       "67      9348  spring 17  2.965015\n",
       "77      9348    fall 17  2.831280\n",
       "87      9348  spring 18  3.199498\n",
       "97      9348    fall 18  3.467202\n",
       "\n",
       "[100 rows x 3 columns]"
      ]
     },
     "execution_count": 141,
     "metadata": {},
     "output_type": "execute_result"
    }
   ],
   "source": [
    "long.sort_values(['otter_id','sem_year'])"
   ]
  }
 ],
 "metadata": {
  "kernelspec": {
   "display_name": "Python 3 (ipykernel)",
   "language": "python",
   "name": "python3"
  },
  "language_info": {
   "codemirror_mode": {
    "name": "ipython",
    "version": 3
   },
   "file_extension": ".py",
   "mimetype": "text/x-python",
   "name": "python",
   "nbconvert_exporter": "python",
   "pygments_lexer": "ipython3",
   "version": "3.9.7"
  }
 },
 "nbformat": 4,
 "nbformat_minor": 5
}
